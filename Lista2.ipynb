{
 "cells": [
  {
   "cell_type": "markdown",
   "metadata": {},
   "source": [
    "# Lista 2 (7 pkt.)"
   ]
  },
  {
   "cell_type": "code",
   "execution_count": 1,
   "metadata": {},
   "outputs": [],
   "source": [
    "import string\n",
    "from PIL import Image\n",
    "import numpy as np\n",
    "import matplotlib.pyplot as plt\n",
    "from matplotlib.colors import LogNorm"
   ]
  },
  {
   "cell_type": "markdown",
   "metadata": {},
   "source": [
    "## Zadanie 1. (1 pkt)"
   ]
  },
  {
   "cell_type": "markdown",
   "metadata": {},
   "source": [
    "To zadanie należy wykonać ręcznie, bez używania komputera, korzystając z instrukcji z **one_time_pad.pdf**. Zaszyfruj wiadomość o treści: \"NEW 15 HELICOPTERS\", za pomocą klucza: 68496 47757 10126 36660 25066. Do słów, które są w tabeli poniżej użyj odpowiednio ich kodów. Uwaga: w wiadomości jest liczba mnoga \"helicopterS\"."
   ]
  },
  {
   "cell_type": "markdown",
   "metadata": {},
   "source": [
    "NEW      15     HELICOPTERS\n",
    "\n",
    "4286 9011155590 038983\n",
    "\n",
    "M: KEYID 42869 01115 55900 38983\n",
    "\n",
    "K: 68496 47757 10126 36660 25066\n",
    "   \n",
    "C: 68496 05112 91099 29340 13927\n"
   ]
  },
  {
   "cell_type": "markdown",
   "metadata": {},
   "source": [
    "\n",
    "$\\begin{array}{|c|c|c|c|c|c|c|c|c|c|}\n",
    "\\hline\n",
    "CODE&A&E&I&N&O&T&&\\\\\n",
    "0&1&2&3&4&5&6&&&\\\\\n",
    "\\hline\n",
    "B&C&D&F&G&H&J&K&L&M\\\\\n",
    "70&71&72&73&74&75&76&77&78&79\\\\\n",
    "\\hline\n",
    "P&Q&R&S&U&V&W&X&Y&Z\\\\\n",
    "80&81&82&83&84&85&86&87&88&89\\\\\n",
    "\\hline\n",
    "FIG&.&:&,/'&(/)&+&-&=&REG/?&SPC\\\\\n",
    "90&91&92&93&94&95&96&97&98&99\\\\\n",
    "\\hline\n",
    "\\end{array}$"
   ]
  },
  {
   "cell_type": "markdown",
   "metadata": {},
   "source": [
    "$\\begin{array}{|cc|cc|cc|cc|}\n",
    "\\hline\n",
    "000&ABORT&253&DECODE&505&MILITARY&758&STREET\\\\\n",
    "\\hline\n",
    "019&ACCEPT&262&DELAY&514&MONEY&767&SUBWAY\\\\\n",
    "\\hline\n",
    "028&ACCESS&271&DIFFICULT&523&MONTH&776&SUCCESS\\\\\n",
    "\\hline\n",
    "037&ADDRESS&280&DOCUMENT&532&MORNING&785&SUPPLY\\\\\n",
    "\\hline\n",
    "046&AFFIRMATIVE&299&ENCODE&541&MORSE&794&SUPPORT\\\\\n",
    "\\hline\n",
    "055&AGENT&307&EVENING&550&NEGATIVE&802&TELEPHONE\\\\\n",
    "\\hline\n",
    "064&AIRPLANE&316&EXECUTE&569&NIGHT&811&TODAY\\\\\n",
    "\\hline\n",
    "073&AIRPORT&325&FACTORY&578&OBSERVATION&820&TOMORROW\\\\\n",
    "\\hline\n",
    "082&ANSWER&334&FAILED&587&PASSPORT&839&TRAIN\\\\\n",
    "\\hline\n",
    "091&AUTHORITY&343&FERRY&596&PERSON&848&TRANSFER\\\\\n",
    "\\hline\n",
    "109&BETWEEN&352&FLIGHT&604&PHOTOGRAPH&857&TRANSMIT\\\\\n",
    "\\hline\n",
    "118&BORDER&361&FREQUENCY&613&POSITIVE&866&TRAVEL\\\\\n",
    "\\hline\n",
    "127&BUILDING&370&HARBOUR&622&POSSIBLE&875&TRUCK\\\\\n",
    "\\hline\n",
    "136&CANCEL&389&HELICOPTER&631&POWER&884&UNABLE TO\\\\\n",
    "\\hline\n",
    "145&CHANGE&398&HIGHWAY&640&PRIORITY&893&URGENT\\\\\n",
    "\\hline\n",
    "154&CIVILIAN&406&IDENTITY&659&PROBLEM&901&VERIFY\\\\\n",
    "\\hline\n",
    "163&COMPROMISE&415&IMMEDIATE&668&QUESTION&910&WEEK\\\\\n",
    "\\hline\n",
    "172&COMPUTER&424&IMPOSSIBLE&677&RADIO&929&WITHIN\\\\\n",
    "\\hline\n",
    "181&CONFIRM&433&INFORMATION&686&RECEIVE&938&YESTERDAY\\\\\n",
    "\\hline\n",
    "190&CONTACT&442&INSTRUCTIONS&695&RENDEZVOUS&&\\\\\n",
    "\\hline\n",
    "208&COORDINATE&451&LOCATE&703&REPEAT&&\\\\\n",
    "\\hline\n",
    "217&COUNTRY&460&LOCATION&712&RESERVATION&&\\\\\n",
    "\\hline\n",
    "226&COVERT&479&MAIL&721&ROUTINE&\\\\\n",
    "\\hline\n",
    "235&CURRENT&488&MEETING&730&SATELLITE&\\\\\n",
    "\\hline\n",
    "244&DANGER&497&MESSAGE&749&SHIP&\\\\\n",
    "\\hline\n",
    "\\end{array}$"
   ]
  },
  {
   "cell_type": "markdown",
   "metadata": {},
   "source": [
    "## Zadanie 2 (1 pkt)"
   ]
  },
  {
   "cell_type": "markdown",
   "metadata": {},
   "source": [
    "To zadanie również jest do zrobienia ręcznie. Używając klucza 11454 03055 15565 17466 26950 54906 odkoduj wiadomość 11454 00572 94578 25863 84286 24376. Wykorzystaj instrukcje z **one_time_pad.pdf** oraz tablicę kodów z Zadania 1. \n"
   ]
  },
  {
   "cell_type": "markdown",
   "metadata": {},
   "source": [
    "C: 11454 00572 94578 25863 84286 24376\n",
    "\n",
    "K: 11454 03055 15565 17466 26950 54906\n",
    "\n",
    "M: KEYID 03527 09033 32229 00136 78272\n",
    "\n",
    "035270 9033322290 013678272\n",
    "\n",
    "FLIGHT B32 CANCELLED"
   ]
  },
  {
   "cell_type": "markdown",
   "metadata": {},
   "source": [
    "## Zadanie 3. (1 pkt)\n",
    "Wczytaj obrazki 'miki.png' oraz 'quest.png'."
   ]
  },
  {
   "cell_type": "code",
   "execution_count": 2,
   "metadata": {},
   "outputs": [
    {
     "data": {
      "image/png": "[encoded data removed]",
      "text/plain": [
       "<PIL.Image.Image image mode=L size=200x207 at 0x25A9E9E1940>"
      ]
     },
     "execution_count": 2,
     "metadata": {},
     "output_type": "execute_result"
    }
   ],
   "source": [
    "img1 = Image.open('data_2/miki.png').convert('L')\n",
    "img1"
   ]
  },
  {
   "cell_type": "code",
   "execution_count": 3,
   "metadata": {},
   "outputs": [
    {
     "data": {
      "image/png": "[encoded data removed]",
      "text/plain": [
       "<PIL.Image.Image image mode=L size=200x207 at 0x25A9EDC9438>"
      ]
     },
     "execution_count": 3,
     "metadata": {},
     "output_type": "execute_result"
    }
   ],
   "source": [
    "img2 = Image.open('data_2/quest.png').convert('L')\n",
    "img2"
   ]
  },
  {
   "cell_type": "markdown",
   "metadata": {},
   "source": [
    "Napisz funkcję **add_pic(img1, img2)**, która przyjmuje dwa obrazki i je dodaje piksel po pikselu za pomocą XOR, czyli **biały+biały=czarny, biały+czarny=biały, czarny+czarny=czarny**. Warto wykorzystać to, że **np.array(img)** zwraca tablicę, z wartościami 255 dla białych pikseli i 0 dla czarnych, aby zamienić tablicę z powrotem na obraz należy użyc **Image.fromarray()** przy czym tablica musi być typu **np.uint8** czyli tworząc tablicę podajemy typ: **np.array([1,2,3,4], dtype=np.uint8)**. Funkcja ma zwracać obrazek."
   ]
  },
  {
   "cell_type": "code",
   "execution_count": 4,
   "metadata": {},
   "outputs": [],
   "source": [
    "def add_pic(img1, img2):\n",
    "    img1_array = np.array(img1, dtype=np.uint8)\n",
    "    img2_array = np.array(img2, dtype=np.uint8)\n",
    "    \n",
    "    xor_array = np.bitwise_xor(img1_array, img2_array)\n",
    "    \n",
    "    return Image.fromarray(xor_array)"
   ]
  },
  {
   "cell_type": "markdown",
   "metadata": {},
   "source": [
    "Wygeneruj (pseudo)losowy klucz, czyli obrazek z losowymi białymi i czarnymi pikselami, użyj **np.random**. Następnie zaszyfruj tym kluczem, za pomocą **add_pic**, oba obrazki **img1** i **img2**. Zauważ, że oba obrazki wyglądają na dobrze zaszyfrowane, zobacz jednak co się wydarzy kiedy dodasz do siebie te zaszyfrowane obrazki."
   ]
  },
  {
   "cell_type": "code",
   "execution_count": 5,
   "metadata": {},
   "outputs": [],
   "source": [
    "key = np.random.randint(2, size=img1.size[::-1], dtype=np.uint8) * 255"
   ]
  },
  {
   "cell_type": "code",
   "execution_count": 6,
   "metadata": {},
   "outputs": [
    {
     "data": {
      "image/png": "[encoded data removed]",
      "text/plain": [
       "<PIL.Image.Image image mode=L size=200x207 at 0x25A9E7841D0>"
      ]
     },
     "execution_count": 6,
     "metadata": {},
     "output_type": "execute_result"
    }
   ],
   "source": [
    "img1_enc = add_pic(img1, key)\n",
    "img1_enc"
   ]
  },
  {
   "cell_type": "code",
   "execution_count": 7,
   "metadata": {},
   "outputs": [
    {
     "data": {
      "image/png": "[encoded data removed]",
      "text/plain": [
       "<PIL.Image.Image image mode=L size=200x207 at 0x25A9E9E15C0>"
      ]
     },
     "execution_count": 7,
     "metadata": {},
     "output_type": "execute_result"
    }
   ],
   "source": [
    "img2_enc = add_pic(img2, key)\n",
    "img2_enc"
   ]
  },
  {
   "cell_type": "code",
   "execution_count": 8,
   "metadata": {},
   "outputs": [
    {
     "data": {
      "image/png": "[encoded data removed]",
      "text/plain": [
       "<PIL.Image.Image image mode=L size=200x207 at 0x25A9EDD2DA0>"
      ]
     },
     "execution_count": 8,
     "metadata": {},
     "output_type": "execute_result"
    }
   ],
   "source": [
    "img_sum = add_pic(img1_enc, img2_enc)\n",
    "img_sum"
   ]
  },
  {
   "cell_type": "markdown",
   "metadata": {},
   "source": [
    "## Zadanie 4 (2 pkt.)"
   ]
  },
  {
   "cell_type": "markdown",
   "metadata": {},
   "source": [
    "Zmienne ***msg1_enc*** oraz ***msg2_enc*** zawierają dwie zaszyfrowane wiadomości, w języku angielskim."
   ]
  },
  {
   "cell_type": "code",
   "execution_count": 9,
   "metadata": {},
   "outputs": [],
   "source": [
    "msg1_enc = '\\x1e\\x17\\x0c\\x12\\x1b\\x08\\x0cf\\x0e\\x11x\\x1a\\x1c\\x12o\\x06\\x18\\x1f\\x17\\x03\\x10\\x01fkh\\x1f\\x08'\n",
    "msg2_enc = '\\x0b\\ni\\x07\\x1c\\x02k\\x1f\\x16e\\x01\\x0b\\x07\\x03\\n\\x15\\x15\\x0c\\x1el\\x07\\x03\\x03\\x16\\x01\\x01\\x02'"
   ]
  },
  {
   "cell_type": "markdown",
   "metadata": {},
   "source": [
    "Wiadomo, że zostały zaszyfrowane tym samym kluczem, możemy to wykorzystać do odszyfrowania ich. W tym zadaniu konwencja zamiany liter na liczby i ich dodawania jest inna, niż w poprzednich. Znaki zamieniamy na liczby kodujące te znaki w **Unicode**, czyli za pomocą **ord()**, następnie dodajemy je do siebie za pomocą XOR na poziomie bitów, czyli za pomocą **^**. Napisz funkcję **add_str(msg1, msg2)**, które przyjmuje dwa teksty i zwraca tekst będący sumą tych tekstów zgodnie z powyższą konwencją."
   ]
  },
  {
   "cell_type": "code",
   "execution_count": 10,
   "metadata": {},
   "outputs": [],
   "source": [
    "def add_str(msg1, msg2):\n",
    "    result = ''\n",
    "    \n",
    "    for i in range(len(msg1)):\n",
    "        char1 = ord(msg1[i])\n",
    "        char2 = ord(msg2[i])\n",
    "        \n",
    "        xor = char1 ^ char2\n",
    "        result += chr(xor)\n",
    "\n",
    "    return result"
   ]
  },
  {
   "cell_type": "code",
   "execution_count": 11,
   "metadata": {},
   "outputs": [
    {
     "data": {
      "text/plain": [
       "'\\x15\\x1de\\x15\\x07\\ngy\\x18ty\\x11\\x1b\\x11e\\x13\\r\\x13\\to\\x17\\x02e}i\\x1e\\n'"
      ]
     },
     "execution_count": 11,
     "metadata": {},
     "output_type": "execute_result"
    }
   ],
   "source": [
    "message_sum = add_str(msg1_enc, msg2_enc)\n",
    "message_sum"
   ]
  },
  {
   "cell_type": "markdown",
   "metadata": {},
   "source": [
    "Zauważmy, że jeżeli dwie wiadomości są zaszyfrowane tym samym kluczem to dodanie ich do siebie sprawia, że dostaniemy sumę wiadomości bez klucza. Poza tym zauważmy, że jeżeli znamy jakieś słowo występujące w którejś z wiadomości i je dodamy do sumy tych wiadomości w odpowiednim miejscu to w wyniku dostaniemy poprawne słowo z drugiej wiadomości. Zatem metoda łamania tych wiadomości jest następująca, zgadujemy jakie słowo może być w którejś z wiadomości, dodajemy je w różnych miejscach sumy wiadomości i patrzymy czy powstaje coś co może być fragmentem poprawnego tekstu, następnie na podstawie tego fragmentu zgadujemy większą pozostałą część słowa i teraz to słowo używamy do odczytania kolejnego fragmentu z pierwszej wiadomości.\n",
    "\n",
    "Pierwsze słowo wybieramy z pośród najpopularniejszych słów w danym języku.\n",
    "\n",
    "Najpopularniejsze angielskie słowa:\n",
    "1. THE\n",
    "2. BE\n",
    "3. TO\n",
    "4. OF\n",
    "5. AND\n",
    "\n",
    "Uwaga 1: Słowa zapisane są drukowanymi literami.\n",
    "\n",
    "Uwaga 2: Słowa oddzialane są spacjami, zatem biorąc np. słowo THE należy sprawdzać ciąg znaków \"&nbsp; THE &nbsp;\", ze spacjami na początku i końcu, dzięki temu odszyfrujemy więcej znaków."
   ]
  },
  {
   "cell_type": "code",
   "execution_count": 12,
   "metadata": {
    "scrolled": false
   },
   "outputs": [
    {
     "name": "stdout",
     "output_type": "stream",
     "text": [
      "xxxxxxxxxxxxxxxxxxxxxxxxxxx\n",
      "xxxxxxxxxxxxxxxxxxxxxxxxxxx\n",
      "Message 1 word:  THE \n",
      "i = 0 |5I-P'|\n",
      "i = 1 |=1]B*|\n",
      "i = 2 |EAOOG|\n",
      "i = 3 |5SB\"Y|\n",
      "i = 4 |'^/<8|\n",
      "i = 5 |*31]T|\n",
      "i = 6 |G-P1Y|\n",
      "i = 7 |YL<<1|\n",
      "i = 8 |8 1T;|\n",
      "i = 9 |T-Y^1|\n",
      "i = 10 |YESTE|\n",
      "i = 11 |1OY 3|\n",
      "i = 12 |;E-V-|\n",
      "i = 13 |11[H3|\n",
      "i = 14 |EGEV)|\n",
      "i = 15 |3Y[LO|\n",
      "i = 16 |-GA*7|\n",
      "i = 17 |3]'R\"|\n",
      "i = 18 |);_GE|\n",
      "i = 19 |OCJ ]|\n",
      "i = 20 |7V-8I|\n",
      "i = 21 |\"15,>|\n",
      "i = 22 |E)![*|\n",
      "Message 1 index: 10\n",
      "Message 1:  xxxxxxxxxx THE xxxxxxxxxxxx\n",
      "Message 2:  xxxxxxxxxxYESTExxxxxxxxxxxx\n",
      "Message 2 word:  YESTERDAY \n",
      "i = 0 |5D FSO5=Y-Y|\n",
      "i = 1 |=<PT^\"+\\5 1|\n",
      "i = 2 |ELBY3<J08H;|\n",
      "i = 3 |5^O4-]&=PB1|\n",
      "i = 4 |'S\"*L1+UZHE|\n",
      "i = 5 |*><K <C_P<3|\n",
      "i = 6 |G ]'-TIU$J-|\n",
      "i = 7 |YA1*E^C!RT3|\n",
      "i = 8 |8-<BOT7WLJ)|\n",
      "i = 9 |T THE AIRPO|\n",
      "i = 10 |YH^B1V_WH67|\n",
      "i = 11 |1BT6GHAM.N\"|\n",
      "i = 12 |;H @YV[+V[E|\n",
      "i = 13 |1<V^GL=SC<]|\n",
      "i = 14 |EJH@]*EF$$I|\n",
      "i = 15 |3TVZ;RP!<0>|\n",
      "i = 16 |-JL<CG79(G*|\n",
      "Message 2 index: 9\n",
      "Message 1:  xxxxxxxxxT THE AIRPOxxxxxxx\n",
      "Message 2:  xxxxxxxxx YESTERDAY xxxxxxx\n",
      "Message 1 word: AIRPORT \n",
      "i = 0 |TT7EHX3Y|\n",
      "i = 1 |\\,GWE5-8|\n",
      "i = 2 |$\\UZ(+LT|\n",
      "i = 3 |TNX76J Y|\n",
      "i = 4 |FC5)W&-1|\n",
      "i = 5 |K.+H;+E;|\n",
      "i = 6 |&0J$6CO1|\n",
      "i = 7 |8Q&)^IEE|\n",
      "i = 8 |Y=+ATC13|\n",
      "i = 9 |50CK^7G-|\n",
      "i = 10 |8XIA*AY3|\n",
      "i = 11 |PRC5\\_G)|\n",
      "i = 12 |ZX7CBA]O|\n",
      "i = 13 |P,A]\\[;7|\n",
      "i = 14 |$Z_CF=C\"|\n",
      "i = 15 |RDAY EVE|\n",
      "i = 16 |LZ[?XP1]|\n",
      "i = 17 |R@=GM7)I|\n",
      "i = 18 |H&ER*/=>|\n",
      "i = 19 |.^P52;J*|\n",
      "Message 1 index: 15\n",
      "Message 1:  xxxxxxxxxT THE AIRPORT xxxx\n",
      "Message 2:  xxxxxxxxx YESTERDAY EVExxxx\n",
      "Message 2 word: EVENING\n",
      "i = 0 |PK [ND |\n",
      "i = 1 |X3PIC)>|\n",
      "i = 2 | CBD.7_|\n",
      "i = 3 |PQO)0V3|\n",
      "i = 4 |B\\\"7Q:>|\n",
      "i = 5 |O1<V=7V|\n",
      "i = 6 |\"/]:0_\\|\n",
      "i = 7 |<N17XUV|\n",
      "i = 8 |]\"<_R_\"|\n",
      "i = 9 |1/TUX+T|\n",
      "i = 10 |<G^_,]J|\n",
      "i = 11 |TMT+ZCT|\n",
      "i = 12 |^G ]D]N|\n",
      "i = 13 |T3VCZG(|\n",
      "i = 14 | EH]@!P|\n",
      "i = 15 |V[VG&YE|\n",
      "i = 16 |HEL!^L\"|\n",
      "i = 17 |V_*YK+:|\n",
      "i = 18 |L9RL,3.|\n",
      "i = 19 |*AG+4'Y|\n",
      "i = 20 |RT 3 PM|\n",
      "Message 2 index: 20\n",
      "Message 1:  xxxxxxxxxT THE AIRPORT 3 PM\n",
      "Message 2:  xxxxxxxxx YESTERDAY EVENING\n",
      "Message 1 word:  AND \n",
      "i = 0 |5\\+Q'|\n",
      "i = 1 |=$[C*|\n",
      "i = 2 |ETING|\n",
      "i = 3 |5FD#Y|\n",
      "i = 4 |'K)=8|\n",
      "i = 5 |*&7\\T|\n",
      "i = 6 |G8V0Y|\n",
      "i = 7 |YY:=1|\n",
      "i = 8 |857U;|\n",
      "i = 9 |T8__1|\n",
      "i = 10 |YPUUE|\n",
      "i = 11 |1Z_!3|\n",
      "i = 12 |;P+W-|\n",
      "i = 13 |1$]I3|\n",
      "i = 14 |ERCW)|\n",
      "i = 15 |3L]MO|\n",
      "i = 16 |-RG+7|\n",
      "i = 17 |3H!S\"|\n",
      "i = 18 |).YFE|\n",
      "i = 19 |OVL!]|\n",
      "i = 20 |7C+9I|\n",
      "i = 21 |\"$3->|\n",
      "i = 22 |E<'Z*|\n",
      "Message 1 index: 2\n",
      "Message 1:  xx AND xxT THE AIRPORT 3 PM\n",
      "Message 2:  xxETINGxx YESTERDAY EVENING\n",
      "Message 2 word: MEETING\n",
      "i = 0 |XX AND |\n",
      "i = 1 |P PSC)>|\n",
      "i = 2 |(PB^.7_|\n",
      "i = 3 |XBO30V3|\n",
      "i = 4 |JO\"-Q:>|\n",
      "i = 5 |G\"<L=7V|\n",
      "i = 6 |*<] 0_\\|\n",
      "i = 7 |4]1-XUV|\n",
      "i = 8 |U1<ER_\"|\n",
      "i = 9 |9<TOX+T|\n",
      "i = 10 |4T^E,]J|\n",
      "i = 11 |\\^T1ZCT|\n",
      "i = 12 |VT GD]N|\n",
      "i = 13 |\\ VYZG(|\n",
      "i = 14 |(VHG@!P|\n",
      "i = 15 |^HV]&YE|\n",
      "i = 16 |@VL;^L\"|\n",
      "i = 17 |^L*CK+:|\n",
      "i = 18 |D*RV,3.|\n",
      "i = 19 |\"RG14'Y|\n",
      "i = 20 |ZG ) PM|\n",
      "Message 2 index: 0\n",
      "Message 1:  XX AND xxT THE AIRPORT 3 PM\n",
      "Message 2:  MEETINGxx YESTERDAY EVENING\n",
      "Message 1 word: AT\n",
      "i = 0 |TI|\n",
      "i = 1 |\\1|\n",
      "i = 2 |$A|\n",
      "i = 3 |TS|\n",
      "i = 4 |F^|\n",
      "i = 5 |K3|\n",
      "i = 6 |&-|\n",
      "i = 7 |8L|\n",
      "i = 8 |Y |\n",
      "i = 9 |5-|\n",
      "i = 10 |8E|\n",
      "i = 11 |PO|\n",
      "i = 12 |ZE|\n",
      "i = 13 |P1|\n",
      "i = 14 |$G|\n",
      "i = 15 |RY|\n",
      "i = 16 |LG|\n",
      "i = 17 |R]|\n",
      "i = 18 |H;|\n",
      "i = 19 |.C|\n",
      "i = 20 |VV|\n",
      "i = 21 |C1|\n",
      "i = 22 |$)|\n",
      "i = 23 |<=|\n",
      "i = 24 |(J|\n",
      "i = 25 |_^|\n",
      "Message 1 index: 0\n",
      "Message 1:  AT AND xxT THE AIRPORT 3 PM\n",
      "Message 2:  TIETINGxx YESTERDAY EVENING\n",
      "Message 2 word: MEETING \n",
      "i = 0 |XX AND Y|\n",
      "i = 1 |P PSC)>8|\n",
      "i = 2 |(PB^.7_T|\n",
      "i = 3 |XBO30V3Y|\n",
      "i = 4 |JO\"-Q:>1|\n",
      "i = 5 |G\"<L=7V;|\n",
      "i = 6 |*<] 0_\\1|\n",
      "i = 7 |4]1-XUVE|\n",
      "i = 8 |U1<ER_\"3|\n",
      "i = 9 |9<TOX+T-|\n",
      "i = 10 |4T^E,]J3|\n",
      "i = 11 |\\^T1ZCT)|\n",
      "i = 12 |VT GD]NO|\n",
      "i = 13 |\\ VYZG(7|\n",
      "i = 14 |(VHG@!P\"|\n",
      "i = 15 |^HV]&YEE|\n",
      "i = 16 |@VL;^L\"]|\n",
      "i = 17 |^L*CK+:I|\n",
      "i = 18 |D*RV,3.>|\n",
      "i = 19 |\"RG14'Y*|\n",
      "Message 2 index: 0\n",
      "Message 1:  XX AND YxT THE AIRPORT 3 PM\n",
      "Message 2:  MEETING x YESTERDAY EVENING\n",
      "Message 1 word:  YY \n",
      "i = 0 |5D<5|\n",
      "i = 1 |=<L'|\n",
      "i = 2 |EL^*|\n",
      "i = 3 |5^SG|\n",
      "i = 4 |'S>Y|\n",
      "i = 5 |*> 8|\n",
      "i = 6 |G AT|\n",
      "i = 7 |YA-Y|\n",
      "i = 8 |8- 1|\n",
      "i = 9 |T H;|\n",
      "i = 10 |YHB1|\n",
      "i = 11 |1BHE|\n",
      "i = 12 |;H<3|\n",
      "i = 13 |1<J-|\n",
      "i = 14 |EJT3|\n",
      "i = 15 |3TJ)|\n",
      "i = 16 |-JPO|\n",
      "i = 17 |3P67|\n",
      "i = 18 |)6N\"|\n",
      "i = 19 |ON[E|\n",
      "i = 20 |7[<]|\n",
      "i = 21 |\"<$I|\n",
      "i = 22 |E$0>|\n",
      "i = 23 |]0G*|\n",
      "Message 1 index: 6\n",
      "Message 1:  XX AND YY  THE AIRPORT 3 PM\n",
      "Message 2:  MEETING ATYESTERDAY EVENING\n",
      "Message 2 word:  THE \n",
      "i = 0 |5I-P'|\n",
      "i = 1 |=1]B*|\n",
      "i = 2 |EAOOG|\n",
      "i = 3 |5SB\"Y|\n",
      "i = 4 |'^/<8|\n",
      "i = 5 |*31]T|\n",
      "i = 6 |G-P1Y|\n",
      "i = 7 |YL<<1|\n",
      "i = 8 |8 1T;|\n",
      "i = 9 |T-Y^1|\n",
      "i = 10 |YESTE|\n",
      "i = 11 |1OY 3|\n",
      "i = 12 |;E-V-|\n",
      "i = 13 |11[H3|\n",
      "i = 14 |EGEV)|\n",
      "i = 15 |3Y[LO|\n",
      "i = 16 |-GA*7|\n",
      "i = 17 |3]'R\"|\n",
      "i = 18 |);_GE|\n",
      "i = 19 |OCJ ]|\n",
      "i = 20 |7V-8I|\n",
      "i = 21 |\"15,>|\n",
      "i = 22 |E)![*|\n",
      "Message 2 index: 10\n",
      "Message 1:  XX AND YY YESTEAIRPORT 3 PM\n",
      "Message 2:  MEETING AT THE RDAY EVENING\n",
      "Message 1 word: YESTERDAY \n",
      "i = 0 |LX6ABX#8AT|\n",
      "i = 1 |D FSO5=Y-Y|\n",
      "i = 2 |<PT^\"+\\5 1|\n",
      "i = 3 |LBY3<J08H;|\n",
      "i = 4 |^O4-]&=PB1|\n",
      "i = 5 |S\"*L1+UZHE|\n",
      "i = 6 |><K <C_P<3|\n",
      "i = 7 | ]'-TIU$J-|\n",
      "i = 8 |A1*E^C!RT3|\n",
      "i = 9 |-<BOT7WLJ)|\n",
      "i = 10 | THE AIRPO|\n",
      "i = 11 |H^B1V_WH67|\n",
      "i = 12 |BT6GHAM.N\"|\n",
      "i = 13 |H @YV[+V[E|\n",
      "i = 14 |<V^GL=SC<]|\n",
      "i = 15 |JH@]*EF$$I|\n",
      "i = 16 |TVZ;RP!<0>|\n",
      "i = 17 |JL<CG79(G*|\n",
      "Message 1 index: 10\n",
      "Message 1:  XX AND YY YESTERDAY RT 3 PM\n",
      "Message 2:  MEETING AT THE AIRPOEVENING\n",
      "Message 2 word: AIRPORT \n",
      "i = 0 |TT7EHX3Y|\n",
      "i = 1 |\\,GWE5-8|\n",
      "i = 2 |$\\UZ(+LT|\n",
      "i = 3 |TNX76J Y|\n",
      "i = 4 |FC5)W&-1|\n",
      "i = 5 |K.+H;+E;|\n",
      "i = 6 |&0J$6CO1|\n",
      "i = 7 |8Q&)^IEE|\n",
      "i = 8 |Y=+ATC13|\n",
      "i = 9 |50CK^7G-|\n",
      "i = 10 |8XIA*AY3|\n",
      "i = 11 |PRC5\\_G)|\n",
      "i = 12 |ZX7CBA]O|\n",
      "i = 13 |P,A]\\[;7|\n",
      "i = 14 |$Z_CF=C\"|\n",
      "i = 15 |RDAY EVE|\n",
      "i = 16 |LZ[?XP1]|\n",
      "i = 17 |R@=GM7)I|\n",
      "i = 18 |H&ER*/=>|\n",
      "i = 19 |.^P52;J*|\n",
      "Message 2 index: 15\n",
      "Message 1:  XX AND YY YESTERDAY EVE3 PM\n",
      "Message 2:  MEETING AT THE AIRPORT NING\n",
      "Message 1 word: EVENING\n",
      "i = 0 |PK [ND |\n",
      "i = 1 |X3PIC)>|\n",
      "i = 2 | CBD.7_|\n",
      "i = 3 |PQO)0V3|\n",
      "i = 4 |B\\\"7Q:>|\n",
      "i = 5 |O1<V=7V|\n",
      "i = 6 |\"/]:0_\\|\n",
      "i = 7 |<N17XUV|\n",
      "i = 8 |]\"<_R_\"|\n",
      "i = 9 |1/TUX+T|\n",
      "i = 10 |<G^_,]J|\n",
      "i = 11 |TMT+ZCT|\n",
      "i = 12 |^G ]D]N|\n",
      "i = 13 |T3VCZG(|\n",
      "i = 14 | EH]@!P|\n",
      "i = 15 |V[VG&YE|\n",
      "i = 16 |HEL!^L\"|\n",
      "i = 17 |V_*YK+:|\n",
      "i = 18 |L9RL,3.|\n",
      "i = 19 |*AG+4'Y|\n",
      "i = 20 |RT 3 PM|\n",
      "Message 1 index: 20\n",
      "Message 1:  XX AND YY YESTERDAY EVENING\n",
      "Message 2:  MEETING AT THE AIRPORT 3 PM\n",
      "Message 2 word: \n",
      "Finishing\n",
      "Message 1:  XX AND YY YESTERDAY EVENING\n",
      "Message 2:  MEETING AT THE AIRPORT 3 PM\n"
     ]
    }
   ],
   "source": [
    "msg_id = 1\n",
    "msg_1 = 'x' * len(message_sum)\n",
    "msg_2 = 'x' * len(message_sum)\n",
    "\n",
    "print(msg_1)\n",
    "print(msg_2)\n",
    "\n",
    "while True:\n",
    "    word = input(f'Message {msg_id} word: ')\n",
    "    if len(word) == 0:\n",
    "        print('Finishing')\n",
    "        break\n",
    "        \n",
    "    for i in range(0, len(message_sum) - len(word) + 1):\n",
    "        msg_dec_part = add_str(message_sum[i:i + len(word)], word)\n",
    "        print(f'i = {i} |{msg_dec_part}|')\n",
    "    \n",
    "    index = input(f'Message {msg_id} index: ')\n",
    "    if len(index) == 0:\n",
    "        print('Finishing')\n",
    "        break\n",
    "        \n",
    "    index = int(index)\n",
    "        \n",
    "    msg_dec_part = add_str(message_sum[index:index + len(word)], word)\n",
    "    \n",
    "    if msg_id == 1:\n",
    "        msg_1 = msg_1[:index] + word + msg_1[index + len(word):]\n",
    "        msg_2 = msg_2[:index] + msg_dec_part + msg_2[index + len(msg_dec_part):]\n",
    "        msg_id = 2\n",
    "    else:\n",
    "        msg_1 = msg_1[:index] + msg_dec_part + msg_1[index + len(msg_dec_part):]\n",
    "        msg_2 = msg_2[:index] + word + msg_2[index + len(word):]\n",
    "        msg_id = 1\n",
    "        \n",
    "    print(f'Message 1: ', msg_1)\n",
    "    print(f'Message 2: ', msg_2)\n",
    "\n",
    "print(f'Message 1: ', msg_1)\n",
    "print(f'Message 2: ', msg_2)"
   ]
  },
  {
   "cell_type": "markdown",
   "metadata": {},
   "source": [
    "## Zadanie 5 (2 pkt.)"
   ]
  },
  {
   "cell_type": "markdown",
   "metadata": {},
   "source": [
    "W poprzednim zadaniu korzystaliśmu z faktu, że obie wiadomości były zaszyfrowane przy użyciu tego samego klucza. Jednka w praktyce nie wiemy, które i czy w ogóle, wiadomosci były zaszyfrowane przy użyciu tego samego klucza. Możemy to wykryć dokonując analizy statystycznej. Załóżmy, że dodajemy do siebie dwie wiadomości zaszyfrowane tymi samymi kluczami. Wtedy miejsca w których dostaniemy 0 (w konwencji użytej w tym zadaniu znak odpowiadający 0 w Unicode, czyli chr(0)) są miejscami w których w obu wiadomościach była ta sama litera. Jeżeli natomiast dodajemy wiadomości o różnych kluczach będziemy dostawać 0 w losowych miejscach. Zatem w pierwszym przypadku otrzymamy więcej 0.\n",
    "\n",
    "Zatem należy wczytać wszystkie wiadomości msg1.txt, msg2.txt itd. a następnie dodać je do siebie parami, każda z każdą i policzyć odsetek 0 (tzn. znaków chr(0)) w otrzymanych sumach. Para wiadomości o wyższym niż inne odsetku będzie tą zaszyfrowaną przy u życiu tego samego klucza. Aby łatwiej zauważyć taką parę warto zilustrować sobie wyniki (odsetki 0) za pomocą **plt.imshow(X ,norm=LogNorm())** i użyć skali logarytmicznej, gdzie **X** to tablica 10 na 10 zawierająca odsetki 0 dla każdej pary wiadomości."
   ]
  },
  {
   "cell_type": "code",
   "execution_count": 13,
   "metadata": {},
   "outputs": [
    {
     "data": {
      "image/png": "[encoded data removed]",
      "text/plain": [
       "<Figure size 576x432 with 2 Axes>"
      ]
     },
     "metadata": {
      "needs_background": "light"
     },
     "output_type": "display_data"
    }
   ],
   "source": [
    "messages = []\n",
    "msg_num = 10\n",
    "result = np.ndarray(shape=(msg_num, msg_num))\n",
    "    \n",
    "for i in range(msg_num):\n",
    "    file = open(\"data_2/msg\" + str(i) + \".txt\", encoding=\"utf8\")\n",
    "    messages.append(file.read())\n",
    "    file.close()\n",
    "\n",
    "for i in range(msg_num):\n",
    "    for j in range(msg_num):\n",
    "        msg_sum = add_str(messages[i], messages[j])\n",
    "        \n",
    "        count = 0\n",
    "        for k in range(len(msg_sum)):\n",
    "            if ord(msg_sum[k]) == 0:\n",
    "                count += 1\n",
    "        \n",
    "        result[i, j] = count\n",
    "\n",
    "plt.figure(figsize=(8, 6))\n",
    "plt.imshow(result, norm=LogNorm())\n",
    "plt.colorbar()\n",
    "plt.show()"
   ]
  }
 ],
 "metadata": {
  "kernelspec": {
   "display_name": "Python 3",
   "language": "python",
   "name": "python3"
  },
  "language_info": {
   "codemirror_mode": {
    "name": "ipython",
    "version": 3
   },
   "file_extension": ".py",
   "mimetype": "text/x-python",
   "name": "python",
   "nbconvert_exporter": "python",
   "pygments_lexer": "ipython3",
   "version": "3.7.3"
  },
  "vscode": {
   "interpreter": {
    "hash": "96ad6c7fd9d06889208fc918e485ee5403ac6f6c27ad3f857e9a26d0c3a3092d"
   }
  }
 },
 "nbformat": 4,
 "nbformat_minor": 2
}
